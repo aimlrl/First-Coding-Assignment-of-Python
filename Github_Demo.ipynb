{
 "cells": [
  {
   "cell_type": "code",
   "execution_count": 1,
   "metadata": {},
   "outputs": [],
   "source": [
    "import numpy as np"
   ]
  },
  {
   "cell_type": "code",
   "execution_count": 2,
   "metadata": {},
   "outputs": [],
   "source": [
    "arr = np.random.randint(low=17,high=93,size=100)"
   ]
  },
  {
   "cell_type": "code",
   "execution_count": 3,
   "metadata": {},
   "outputs": [
    {
     "data": {
      "text/plain": [
       "array([68, 17, 38, 26, 34, 64, 28, 67, 91, 19, 47, 44, 71, 66, 62, 41, 44,\n",
       "       28, 65, 48, 43, 33, 29, 58, 25, 62, 68, 43, 34, 76, 78, 50, 52, 78,\n",
       "       44, 91, 37, 25, 56, 64, 87, 33, 17, 61, 32, 86, 41, 67, 84, 72, 50,\n",
       "       75, 50, 76, 69, 79, 49, 67, 44, 52, 21, 25, 82, 25, 85, 73, 38, 46,\n",
       "       65, 38, 17, 46, 82, 48, 47, 68, 28, 79, 19, 92, 27, 84, 73, 17, 30,\n",
       "       90, 63, 71, 21, 20, 74, 56, 70, 91, 57, 47, 82, 57, 26, 32])"
      ]
     },
     "execution_count": 3,
     "metadata": {},
     "output_type": "execute_result"
    }
   ],
   "source": [
    "arr"
   ]
  },
  {
   "cell_type": "code",
   "execution_count": null,
   "metadata": {},
   "outputs": [],
   "source": []
  }
 ],
 "metadata": {
  "kernelspec": {
   "display_name": "Python 3",
   "language": "python",
   "name": "python3"
  },
  "language_info": {
   "codemirror_mode": {
    "name": "ipython",
    "version": 3
   },
   "file_extension": ".py",
   "mimetype": "text/x-python",
   "name": "python",
   "nbconvert_exporter": "python",
   "pygments_lexer": "ipython3",
   "version": "3.7.0"
  }
 },
 "nbformat": 4,
 "nbformat_minor": 2
}
