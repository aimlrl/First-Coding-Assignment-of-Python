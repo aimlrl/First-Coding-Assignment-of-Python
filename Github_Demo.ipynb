{
 "cells": [
  {
   "cell_type": "code",
   "execution_count": 1,
   "metadata": {},
   "outputs": [],
   "source": [
    "import numpy as np"
   ]
  },
  {
   "cell_type": "code",
   "execution_count": 2,
   "metadata": {},
   "outputs": [],
   "source": [
    "arr = np.random.randint(low=67,high=93,size=100)"
   ]
  },
  {
   "cell_type": "code",
   "execution_count": 3,
   "metadata": {},
   "outputs": [
    {
     "data": {
      "text/plain": [
       "array([67, 84, 68, 82, 87, 92, 92, 86, 85, 77, 71, 92, 77, 92, 70, 81, 72,\n",
       "       67, 84, 90, 90, 72, 73, 84, 67, 80, 90, 80, 77, 69, 73, 92, 67, 82,\n",
       "       71, 85, 86, 83, 68, 67, 81, 89, 75, 77, 77, 80, 72, 68, 78, 83, 80,\n",
       "       92, 91, 85, 92, 90, 67, 70, 67, 83, 89, 87, 83, 74, 92, 69, 72, 72,\n",
       "       71, 78, 68, 89, 87, 77, 71, 67, 67, 91, 81, 87, 81, 73, 79, 73, 82,\n",
       "       90, 74, 78, 70, 75, 82, 90, 73, 76, 83, 70, 67, 86, 80, 76])"
      ]
     },
     "execution_count": 3,
     "metadata": {},
     "output_type": "execute_result"
    }
   ],
   "source": [
    "arr"
   ]
  },
  {
   "cell_type": "code",
   "execution_count": null,
   "metadata": {},
   "outputs": [],
   "source": []
  }
 ],
 "metadata": {
  "kernelspec": {
   "display_name": "Python 3",
   "language": "python",
   "name": "python3"
  },
  "language_info": {
   "codemirror_mode": {
    "name": "ipython",
    "version": 3
   },
   "file_extension": ".py",
   "mimetype": "text/x-python",
   "name": "python",
   "nbconvert_exporter": "python",
   "pygments_lexer": "ipython3",
   "version": "3.7.0"
  }
 },
 "nbformat": 4,
 "nbformat_minor": 2
}
